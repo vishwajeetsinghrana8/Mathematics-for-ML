{
 "cells": [
  {
   "cell_type": "markdown",
   "id": "f0ae7235-ab5b-4e5b-a077-5f38ccf4c416",
   "metadata": {},
   "source": [
    "## Section-2: Tensor Operations Fundamentals"
   ]
  },
  {
   "cell_type": "markdown",
   "id": "db447ce9-a713-4f16-b325-fac25f380f39",
   "metadata": {},
   "source": [
    "### **Tensor Transposition**\n",
    "\n",
    "**Tensor Transposition** is the process of rearranging (or permuting) the axes/dimensions of a tensor.\n",
    "\n",
    "It’s the higher-dimensional generalization of **matrix transposition**.\n",
    "\n",
    "---\n",
    "\n",
    "### 1. **Matrix Transposition (2D case)**\n",
    "\n",
    "* A **matrix** is a 2D tensor with shape `(rows, columns)`.\n",
    "* Transposing swaps its two dimensions:\n",
    "\n",
    "  $$\n",
    "  A^T_{ij} = A_{ji}\n",
    "  $$\n",
    "\n",
    "  If $A$ has shape $(m, n)$, then $A^T$ has shape $(n, m)$.\n",
    "\n",
    "Example:\n",
    "\n",
    "$$\n",
    "\\begin{bmatrix}\n",
    "1 & 2 & 3 \\\\\n",
    "4 & 5 & 6\n",
    "\\end{bmatrix}^T\n",
    "=\n",
    "\\begin{bmatrix}\n",
    "1 & 4 \\\\\n",
    "2 & 5 \\\\\n",
    "3 & 6\n",
    "\\end{bmatrix}\n",
    "$$\n",
    "\n",
    "---\n",
    "\n",
    "### 2. **Tensor Transposition (n-D case)**\n",
    "\n",
    "* A **tensor** can have more than 2 dimensions, e.g., 3D: `(depth, height, width)` or `(channels, height, width)`.\n",
    "* **Tensor transposition** means **reordering the dimensions** in a specified way.\n",
    "* In notation, this is often called **permutation of axes**.\n",
    "\n",
    "If $T$ has shape `(D₁, D₂, D₃)`, then:\n",
    "\n",
    "* A transpose with order `(1, 0, 2)` swaps the first two axes.\n",
    "* A transpose with order `(2, 0, 1)` moves the last axis to the front.\n",
    "\n",
    "Mathematically, for a tensor $A$ with components $A_{i_1, i_2, \\dots, i_n}$:\n",
    "\n",
    "$$\n",
    "\\text{transpose}(A, \\text{perm})_{j_1, j_2, \\dots, j_n} = A_{i_{\\text{perm}(1)}, i_{\\text{perm}(2)}, \\dots, i_{\\text{perm}(n)}}\n",
    "$$\n",
    "\n",
    "where `perm` is the permutation order.\n",
    "\n",
    "---\n",
    "\n",
    "### 3. **Example**\n",
    "\n",
    "Suppose $T$ has shape `(2, 3, 4)`:\n",
    "\n",
    "* Original axes: `(0, 1, 2)` → shape `(2, 3, 4)`\n",
    "* After `transpose(1, 0, 2)` → shape `(3, 2, 4)`\n",
    "* After `transpose(2, 1, 0)` → shape `(4, 3, 2)`\n",
    "\n",
    "In **NumPy**:\n",
    "\n",
    "```python\n",
    "import numpy as np\n",
    "\n",
    "T = np.random.randint(0, 10, (2, 3, 4))\n",
    "T1 = np.transpose(T, (1, 0, 2))  # swap axes 0 and 1\n",
    "print(T.shape)   # (2, 3, 4)\n",
    "print(T1.shape)  # (3, 2, 4)\n",
    "```\n",
    "\n",
    "---\n",
    "\n",
    "### 4. **Why Tensor Transposition is Important**\n",
    "\n",
    "* **Deep Learning**: Changing data layout for operations (e.g., `channels_first` ↔ `channels_last` in CNNs).\n",
    "* **Linear Algebra**: Converting between row-major and column-major forms.\n",
    "* **Data Manipulation**: Preparing tensors for broadcasting, concatenation, or reshaping.\n",
    "* **Performance Optimization**: Some hardware prefers specific memory layouts."
   ]
  },
  {
   "cell_type": "markdown",
   "id": "48fe8fc7-a1bd-4d90-ae15-f9e36d7920bc",
   "metadata": {},
   "source": [
    "### 1. Matrix Transposition (2D Tensor)"
   ]
  },
  {
   "cell_type": "code",
   "execution_count": 1,
   "id": "8e288469-9800-41ca-8e46-60724a329655",
   "metadata": {},
   "outputs": [],
   "source": [
    "# Numpy\n",
    "import numpy as np"
   ]
  },
  {
   "cell_type": "code",
   "execution_count": 2,
   "id": "3d2aac91-5b59-4f3b-a72b-24fdc39af46d",
   "metadata": {},
   "outputs": [
    {
     "name": "stdout",
     "output_type": "stream",
     "text": [
      "Original (NumPy):\n",
      " [[1 2 3]\n",
      " [4 5 6]]\n",
      "Transpose (NumPy):\n",
      " [[1 4]\n",
      " [2 5]\n",
      " [3 6]]\n"
     ]
    }
   ],
   "source": [
    "A = np.array([[1, 2, 3], [4, 5, 6]])\n",
    "\n",
    "print(\"Original (NumPy):\\n\", A)\n",
    "print(\"Transpose (NumPy):\\n\", A.T)"
   ]
  },
  {
   "cell_type": "code",
   "execution_count": 3,
   "id": "0819cd89-beb1-40b6-8004-6378ca15363c",
   "metadata": {},
   "outputs": [],
   "source": [
    "# PyTorch\n",
    "import torch"
   ]
  },
  {
   "cell_type": "code",
   "execution_count": 4,
   "id": "917678a0-1e3c-4cc7-aeae-954737d11ab7",
   "metadata": {},
   "outputs": [
    {
     "name": "stdout",
     "output_type": "stream",
     "text": [
      "Original (PyTorch):\n",
      " tensor([[1, 2, 3],\n",
      "        [4, 5, 6]])\n",
      "Transpose (PyTorch):\n",
      " tensor([[1, 4],\n",
      "        [2, 5],\n",
      "        [3, 6]])\n"
     ]
    }
   ],
   "source": [
    "B = torch.tensor([[1, 2, 3], [4, 5, 6]])\n",
    "\n",
    "print(\"Original (PyTorch):\\n\", B)\n",
    "print(\"Transpose (PyTorch):\\n\", B.T)   # or torch.transpose(B, 0, 1)"
   ]
  },
  {
   "cell_type": "markdown",
   "id": "083f165d-390c-4cbf-a355-e2fbeca52ac0",
   "metadata": {},
   "source": [
    "### 2. Swap Axes in a 3D Tensor"
   ]
  },
  {
   "cell_type": "code",
   "execution_count": 5,
   "id": "97df27f2-4329-429e-b01a-763e3e3a3bd7",
   "metadata": {},
   "outputs": [
    {
     "name": "stdout",
     "output_type": "stream",
     "text": [
      "[[[8 4 2 6]\n",
      "  [3 8 4 6]\n",
      "  [6 0 3 2]]\n",
      "\n",
      " [[7 5 4 3]\n",
      "  [6 4 9 8]\n",
      "  [8 8 9 3]]]\n",
      "Shape before: (2, 3, 4)\n"
     ]
    }
   ],
   "source": [
    "# NumPy\n",
    "T = np.random.randint(0, 10, (2, 3, 4))\n",
    "print(T)\n",
    "print(\"Shape before:\", T.shape)"
   ]
  },
  {
   "cell_type": "code",
   "execution_count": 6,
   "id": "f932102d-d16f-4eb7-a691-486772324508",
   "metadata": {},
   "outputs": [
    {
     "name": "stdout",
     "output_type": "stream",
     "text": [
      "[[[8 4 2 6]\n",
      "  [7 5 4 3]]\n",
      "\n",
      " [[3 8 4 6]\n",
      "  [6 4 9 8]]\n",
      "\n",
      " [[6 0 3 2]\n",
      "  [8 8 9 3]]]\n",
      "Shape after (NumPy): (3, 2, 4)\n"
     ]
    }
   ],
   "source": [
    "T1 = np.transpose(T, (1, 0, 2))  # swap axis 0 and 1\n",
    "print(T1)\n",
    "print(\"Shape after (NumPy):\", T1.shape)"
   ]
  },
  {
   "cell_type": "code",
   "execution_count": 7,
   "id": "1d5b0325-8ab0-4d20-af41-85baa5306f4a",
   "metadata": {},
   "outputs": [
    {
     "name": "stdout",
     "output_type": "stream",
     "text": [
      "tensor([[[4, 1, 4, 4],\n",
      "         [5, 3, 9, 0],\n",
      "         [8, 7, 4, 3]],\n",
      "\n",
      "        [[7, 1, 9, 0],\n",
      "         [4, 0, 8, 5],\n",
      "         [7, 1, 3, 4]]])\n",
      "Shape before: torch.Size([2, 3, 4])\n"
     ]
    }
   ],
   "source": [
    "# PyTorch\n",
    "T_torch = torch.randint(0, 10, (2, 3, 4))\n",
    "print(T_torch)\n",
    "print(\"Shape before:\", T_torch.shape)"
   ]
  },
  {
   "cell_type": "code",
   "execution_count": 8,
   "id": "06d2b5ac-2b35-43f8-a4d2-f87b4f8fad8d",
   "metadata": {},
   "outputs": [
    {
     "name": "stdout",
     "output_type": "stream",
     "text": [
      "tensor([[[4, 1, 4, 4],\n",
      "         [7, 1, 9, 0]],\n",
      "\n",
      "        [[5, 3, 9, 0],\n",
      "         [4, 0, 8, 5]],\n",
      "\n",
      "        [[8, 7, 4, 3],\n",
      "         [7, 1, 3, 4]]])\n",
      "Shape after (PyTorch): torch.Size([3, 2, 4])\n"
     ]
    }
   ],
   "source": [
    "T1_torch = T_torch.permute(1, 0, 2)  # same operation\n",
    "print(T1_torch)\n",
    "print(\"Shape after (PyTorch):\", T1_torch.shape)"
   ]
  },
  {
   "cell_type": "markdown",
   "id": "06cc6315-fa1b-461b-8086-462412c67a98",
   "metadata": {},
   "source": [
    "### 3. Moving Last Axis to First (Channel Conversion)"
   ]
  },
  {
   "cell_type": "code",
   "execution_count": 9,
   "id": "9bb3d5bc-e5f9-4f9b-9571-13f9a6190c15",
   "metadata": {},
   "outputs": [
    {
     "name": "stdout",
     "output_type": "stream",
     "text": [
      "NumPy shape: (32, 32, 3) -> (3, 32, 32)\n"
     ]
    }
   ],
   "source": [
    "# NumPy\n",
    "img = np.random.rand(32, 32, 3)   # HWC (Height, Width, Channels)\n",
    "chw_img = np.transpose(img, (2, 0, 1))  # to CHW\n",
    "print(\"NumPy shape:\", img.shape, \"->\", chw_img.shape)"
   ]
  },
  {
   "cell_type": "code",
   "execution_count": 10,
   "id": "becf824f-04c5-4e02-b2fd-ebec0aaef0ec",
   "metadata": {},
   "outputs": [
    {
     "name": "stdout",
     "output_type": "stream",
     "text": [
      "PyTorch shape: torch.Size([32, 32, 3]) -> torch.Size([3, 32, 32])\n"
     ]
    }
   ],
   "source": [
    "# PyTorch\n",
    "img_torch = torch.rand(32, 32, 3)  # HWC\n",
    "chw_img_torch = img_torch.permute(2, 0, 1)  # to CHW\n",
    "print(\"PyTorch shape:\", img_torch.shape, \"->\", chw_img_torch.shape)"
   ]
  },
  {
   "cell_type": "markdown",
   "id": "10eea1d2-ebd6-41db-ae5e-db97528abd2b",
   "metadata": {},
   "source": [
    "### 4. Batch of Matrices Transpose (4D Tensor)"
   ]
  },
  {
   "cell_type": "code",
   "execution_count": 11,
   "id": "de901aca-0080-45b4-bcd2-e62cc154194e",
   "metadata": {},
   "outputs": [
    {
     "name": "stdout",
     "output_type": "stream",
     "text": [
      "NumPy shape: (10, 28, 28, 1) -> (10, 1, 28, 28)\n"
     ]
    }
   ],
   "source": [
    "# NumPy\n",
    "batch = np.random.rand(10, 28, 28, 1)  # (batch, H, W, C)\n",
    "batch_T = np.transpose(batch, (0, 3, 1, 2))  # (batch, C, H, W)\n",
    "print(\"NumPy shape:\", batch.shape, \"->\", batch_T.shape)"
   ]
  },
  {
   "cell_type": "code",
   "execution_count": 12,
   "id": "5a011402-1a99-495f-88ef-9f071ec8d5d2",
   "metadata": {},
   "outputs": [
    {
     "name": "stdout",
     "output_type": "stream",
     "text": [
      "PyTorch shape: torch.Size([10, 28, 28, 1]) -> torch.Size([10, 1, 28, 28])\n"
     ]
    }
   ],
   "source": [
    "# PyTorch\n",
    "batch_torch = torch.rand(10, 28, 28, 1)\n",
    "batch_T_torch = batch_torch.permute(0, 3, 1, 2)\n",
    "print(\"PyTorch shape:\", batch_torch.shape, \"->\", batch_T_torch.shape)"
   ]
  },
  {
   "cell_type": "markdown",
   "id": "3a7049c4-8bfa-46fb-b8eb-294b5c0a5443",
   "metadata": {},
   "source": [
    "### 5. Swapping Two Specific Dimensions in a Higher Tensor"
   ]
  },
  {
   "cell_type": "code",
   "execution_count": 13,
   "id": "af32d25e-c7d9-4ed4-ac12-dab327a0d1e4",
   "metadata": {},
   "outputs": [
    {
     "name": "stdout",
     "output_type": "stream",
     "text": [
      "NumPy shape: (4, 5, 6, 7) -> (4, 6, 5, 7)\n"
     ]
    }
   ],
   "source": [
    "# NumPy\n",
    "X = np.random.rand(4, 5, 6, 7)\n",
    "X_swap = np.swapaxes(X, 1, 2)  # swap axis-1 and axis-2\n",
    "print(\"NumPy shape:\", X.shape, \"->\", X_swap.shape)"
   ]
  },
  {
   "cell_type": "code",
   "execution_count": 14,
   "id": "edd81743-0244-497a-b7db-bdf18aead26c",
   "metadata": {},
   "outputs": [
    {
     "name": "stdout",
     "output_type": "stream",
     "text": [
      "PyTorch shape: torch.Size([4, 5, 6, 7]) -> torch.Size([4, 6, 5, 7])\n"
     ]
    }
   ],
   "source": [
    "# PyTorch\n",
    "X_torch = torch.rand(4, 5, 6, 7)\n",
    "X_swap_torch = torch.transpose(X_torch, 1, 2)  # swap dim-1 and dim-2\n",
    "print(\"PyTorch shape:\", X_torch.shape, \"->\", X_swap_torch.shape)"
   ]
  },
  {
   "cell_type": "code",
   "execution_count": null,
   "id": "ff23f1c7-c871-4e59-81bf-19799d090cd7",
   "metadata": {},
   "outputs": [],
   "source": []
  }
 ],
 "metadata": {
  "kernelspec": {
   "display_name": "Python 3 (ipykernel)",
   "language": "python",
   "name": "python3"
  },
  "language_info": {
   "codemirror_mode": {
    "name": "ipython",
    "version": 3
   },
   "file_extension": ".py",
   "mimetype": "text/x-python",
   "name": "python",
   "nbconvert_exporter": "python",
   "pygments_lexer": "ipython3",
   "version": "3.12.7"
  }
 },
 "nbformat": 4,
 "nbformat_minor": 5
}
