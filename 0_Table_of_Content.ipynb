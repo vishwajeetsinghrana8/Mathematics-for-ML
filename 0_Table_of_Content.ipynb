{
  "nbformat": 4,
  "nbformat_minor": 0,
  "metadata": {
    "colab": {
      "provenance": []
    },
    "kernelspec": {
      "name": "python3",
      "display_name": "Python 3"
    },
    "language_info": {
      "name": "python"
    }
  },
  "cells": [
    {
      "cell_type": "markdown",
      "source": [
        "# **Mathematics for Machine Learning**\n",
        "\n",
        "## **Table of Content**\n",
        "\n",
        "1. Python Data Structures for Linear Algebra\n",
        "2. Tensor Operations\n",
        "3. Matrix Properties\n",
        "4. Eigenvectors and Eigenvalues\n",
        "5. Matrix Operations for Machine Learning\n",
        "6. Limits\n",
        "7. Derivatives and Differentiation\n",
        "8. Automatic Differentiation\n",
        "9. Partial Derivative Calculus\n",
        "10. Integral Calculus\n",
        "11. Probability\n",
        "\n",
        "---\n",
        "\n",
        "### **1. Python Data Structures for Linear Algebra**\n",
        "  \n",
        "  * introduction to Linear Algebra\n",
        "  * Tensors\n",
        "  * Scalars\n",
        "  * Vectors and Vector Transposition\n",
        "  * Norms and Unit Vectors\n",
        "  * Basis, Orthogonal and Orthonormal Vectors\n",
        "  * Matrix Tensors\n",
        "  * Generic Tensor Notation"
      ],
      "metadata": {
        "id": "igMhAX4P2EER"
      }
    }
  ]
}